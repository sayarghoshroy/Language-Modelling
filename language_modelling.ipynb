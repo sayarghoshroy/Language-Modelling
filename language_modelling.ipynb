{
  "nbformat": 4,
  "nbformat_minor": 0,
  "metadata": {
    "kernelspec": {
      "display_name": "Python 3",
      "language": "python",
      "name": "python3"
    },
    "language_info": {
      "codemirror_mode": {
        "name": "ipython",
        "version": 3
      },
      "file_extension": ".py",
      "mimetype": "text/x-python",
      "name": "python",
      "nbconvert_exporter": "python",
      "pygments_lexer": "ipython3",
      "version": "3.7.3"
    },
    "colab": {
      "name": "language_modelling.ipynb",
      "provenance": [],
      "collapsed_sections": [],
      "include_colab_link": true
    }
  },
  "cells": [
    {
      "cell_type": "markdown",
      "metadata": {
        "id": "view-in-github",
        "colab_type": "text"
      },
      "source": [
        "<a href=\"https://colab.research.google.com/github/sayarghoshroy/Language-Modelling/blob/master/language_modelling.ipynb\" target=\"_parent\"><img src=\"https://colab.research.google.com/assets/colab-badge.svg\" alt=\"Open In Colab\"/></a>"
      ]
    },
    {
      "cell_type": "code",
      "metadata": {
        "id": "YJPOAJCUZXm2",
        "colab_type": "code",
        "colab": {}
      },
      "source": [
        "# tokenizer implemented using regex from scratch\n",
        "# implementation of language modelling algorithm\n",
        "# with Kneser-Ney Smoothing and interpolation in Python\n",
        "# N-grams upto order 6 have been considered\n",
        "# model perplexity computation\n",
        "# Sentence generation using language models"
      ],
      "execution_count": 0,
      "outputs": []
    },
    {
      "cell_type": "code",
      "metadata": {
        "id": "WplBcvBwZXnG",
        "colab_type": "code",
        "colab": {}
      },
      "source": [
        "import numpy as np\n",
        "import matplotlib.pyplot as plt\n",
        "import sys\n",
        "import re\n",
        "import copy"
      ],
      "execution_count": 0,
      "outputs": []
    },
    {
      "cell_type": "code",
      "metadata": {
        "id": "RjZF6gCnZXnS",
        "colab_type": "code",
        "colab": {}
      },
      "source": [
        "regex_dict = {\n",
        "    'url_regex_a' : \"(http|ftp|https)://([\\w_-]+(?:(?:\\.[\\w_-]+)+))([\\w.,@?^=%&:/~+#-]*[\\w@?^=%&/~+#-])?\",\n",
        "    'url_regex_b' : \"(http|ftp|https)://\\w*.\\w*/\\w*\",\n",
        "    'mention_regex' : \"@.+\",\n",
        "    'dollar_regex' : \"$[0-9]+\\.?[0-9]*\",\n",
        "    'rupee_regex' : \"Rs\\.[0-9]*\\.?[0-9]*\",\n",
        "    'hashtag_regex' : \"#.+\",\n",
        "    'number_regex' : \"[0-9]*[0-9\\.][0-9]+\",\n",
        "    'number_comma_regex' : \"([0-9]*\\,?[0-9]+)+\",\n",
        "    'email_regex' : \"'\\S+@\\S+'\",\n",
        "    'name_regex' : \"(Mr\\.|Mrs\\.|Ms\\.|Smt\\.|Shri\\.|Sri\\.|Shree\\.)[a-zA-Z]*\",\n",
        "    'name_middle' : \"[A-Z]\\.\"\n",
        "}"
      ],
      "execution_count": 0,
      "outputs": []
    },
    {
      "cell_type": "code",
      "metadata": {
        "id": "lWGbQ49FZXnc",
        "colab_type": "code",
        "colab": {}
      },
      "source": [
        "def check(unit):\n",
        "    for regex in regex_dict.values():\n",
        "        if re.match(regex, unit):\n",
        "            return True\n",
        "    return False"
      ],
      "execution_count": 0,
      "outputs": []
    },
    {
      "cell_type": "code",
      "metadata": {
        "id": "tz4yR4AAZXnm",
        "colab_type": "code",
        "colab": {}
      },
      "source": [
        "# filename = sys.argv[1]\n",
        "# access the filename as a command line argument\n",
        "filename = 'corpus3.txt'\n",
        "fp = open(filename)\n",
        "file_string = fp.read()"
      ],
      "execution_count": 0,
      "outputs": []
    },
    {
      "cell_type": "code",
      "metadata": {
        "id": "w9HJv7BrZXnv",
        "colab_type": "code",
        "colab": {}
      },
      "source": [
        "sentence_list = file_string.split('\\n')"
      ],
      "execution_count": 0,
      "outputs": []
    },
    {
      "cell_type": "code",
      "metadata": {
        "id": "exwns0C2ZXn1",
        "colab_type": "code",
        "colab": {}
      },
      "source": [
        "# Building the Language Model\n",
        "def generate_ngrams(tokenized_list, n):\n",
        "    temp_list = copy.deepcopy(tokenized_list)\n",
        "    complete_list = []\n",
        "    for sentence_tokens in temp_list:\n",
        "        for counter in range(0, n - 1):\n",
        "            sentence_tokens.insert(0, '<s>')\n",
        "            sentence_tokens.append('</s>')\n",
        "        size = len(sentence_tokens)\n",
        "        ngram_list = [sentence_tokens[i: i + n] for i in range(size - (n - 1))]\n",
        "        complete_list = complete_list + ngram_list\n",
        "\n",
        "    return complete_list\n",
        "\n",
        "def find_ngrams(tokens, n):\n",
        "    size = len(tokens)\n",
        "    ngram_list = [tokens[i: i + n] for i in range(size - (n - 1))]\n",
        "    return ngram_list"
      ],
      "execution_count": 0,
      "outputs": []
    },
    {
      "cell_type": "code",
      "metadata": {
        "id": "lEEvx6GJZXn8",
        "colab_type": "code",
        "colab": {}
      },
      "source": [
        "tokenized_string = \"\"\n",
        "# the final output\n",
        "\n",
        "tokenized_sentences = []\n",
        "\n",
        "frequencies = [[], { }, { }, { }, { }, { }, { }]\n",
        "# to store N-gram counts for N in {1, 2, 3, 4, 5, 6}\n",
        "\n",
        "def tokenize_sentence(sentence):\n",
        "    units = sentence.split(\" \")\n",
        "    tokens = []\n",
        "    for unit in units:\n",
        "        if check(unit):\n",
        "            tokens.append(unit)\n",
        "                \n",
        "            continue\n",
        "        \n",
        "        divider = re.findall(r\"[\\w']+|[’.,!?;-~`]\", unit)\n",
        "        for elem in divider:\n",
        "            if elem == '':\n",
        "                continue\n",
        "\n",
        "            if \"\\\"\" in elem:\n",
        "                storage = elem.split(\"\\\"\")\n",
        "                for item in storage:\n",
        "                    if \"\\'\" in item:\n",
        "                        new_storage = item.split(\"\\'\")\n",
        "                        for item_sep in new_storage:\n",
        "                            tokens.append(item_sep)\n",
        "                            tokens.append(\"\\'\")\n",
        "                        tokens.pop()\n",
        "                    else:\n",
        "                        tokens.append(item)\n",
        "                        tokens.append(\"\\\"\")\n",
        "                tokens.pop()\n",
        "                            \n",
        "            elif \"\\'\" in elem:\n",
        "                new_storage = elem.split(\"\\'\")\n",
        "                for item_sep in new_storage:\n",
        "                    tokens.append(item_sep)\n",
        "                    tokens.append(\"\\'\")\n",
        "                tokens.pop()\n",
        "\n",
        "            else:\n",
        "                tokens.append(elem)\n",
        "    return tokens\n",
        "\n",
        "for sentence in sentence_list:\n",
        "    units = sentence.split(\" \")\n",
        "    tokens = tokenize_sentence(sentence)\n",
        "    if len(tokens) == 1 and tokens[0] == '' or tokens == []:\n",
        "        continue\n",
        "    \n",
        "    for token in tokens:\n",
        "        if token in frequencies[1]:\n",
        "            frequencies[1][token] += 1\n",
        "        else:\n",
        "            frequencies[1][token] = 1\n",
        "        tokenized_string = tokenized_string + \" \" + str(token)\n",
        "    \n",
        "    tokenized_sentences.append(tokens)\n",
        "        \n",
        "all_tokens = tokenized_string.split(' ')"
      ],
      "execution_count": 0,
      "outputs": []
    },
    {
      "cell_type": "code",
      "metadata": {
        "id": "rWp0oFdMZXoE",
        "colab_type": "code",
        "colab": {}
      },
      "source": [
        "# 'Uncomment the lines to create a file containing all tokenized sentences from corpus 4\n",
        "#f_tokens_4 = open(\"corpus_4_tokens.txt\",\"w+\")\n",
        "for sentence_sep in tokenized_sentences:\n",
        "    output_line  = \"\"\n",
        "    for unit in sentence_sep:\n",
        "        if unit == \" \":\n",
        "            continue\n",
        "        output_line = output_line + unit.strip() + \" \"\n",
        "    output_line = re.sub(r\"  \", r\" \", output_line)\n",
        "    #print(output_line)\n",
        "    \n",
        "    #f_tokens_4.write(output_line.strip())\n",
        "    #f_tokens_4.write(\"\\n\")\n",
        "#f_tokens_4.close()"
      ],
      "execution_count": 0,
      "outputs": []
    },
    {
      "cell_type": "code",
      "metadata": {
        "id": "s-Jq4RDAZXoO",
        "colab_type": "code",
        "colab": {}
      },
      "source": [
        "N_gram_collections = [ [] ]\n",
        "for N in range(1, 7):\n",
        "    N_gram_collections.append(generate_ngrams(tokenized_sentences[:], N))\n",
        "        \n",
        "# Compute Frequencies of N-grams for N on {2, 3, 4, 5, 6}\n",
        "# Preprocesing\n",
        "for N in range(2, 7):\n",
        "    for gram in N_gram_collections[N]:\n",
        "        key = tuple(gram)\n",
        "        if key in frequencies[N]:\n",
        "            frequencies[N][key] += 1\n",
        "        else:\n",
        "            frequencies[N][key] = 1"
      ],
      "execution_count": 0,
      "outputs": []
    },
    {
      "cell_type": "code",
      "metadata": {
        "id": "73mzb0nhZXoW",
        "colab_type": "code",
        "colab": {}
      },
      "source": [
        "# Uncomment to display generated 5-grams\n",
        "# print(generate_ngrams(tokenized_sentences, 5))"
      ],
      "execution_count": 0,
      "outputs": []
    },
    {
      "cell_type": "code",
      "metadata": {
        "id": "KDgFZ0cVZXof",
        "colab_type": "code",
        "colab": {}
      },
      "source": [
        "# The language model is the collection of frequencies of all N-grams\n",
        "# Here, N is in the range (1, 2, 3, 4, 5, 6)\n",
        "# Hence, the 'frequencies' component stores all necessary information for the LM\n",
        "# Storing it in a file\n",
        "\n",
        "fp = open(\"LM\", \"w+\")\n",
        "fp.write(str(frequencies))\n",
        "fp.close()"
      ],
      "execution_count": 0,
      "outputs": []
    },
    {
      "cell_type": "code",
      "metadata": {
        "id": "UT72aItJZXom",
        "colab_type": "code",
        "colab": {}
      },
      "source": [
        "# Uncomment to view the tokenized text\n",
        "#print(tokenized_string)"
      ],
      "execution_count": 0,
      "outputs": []
    },
    {
      "cell_type": "code",
      "metadata": {
        "id": "9_Ij3WBkZXou",
        "colab_type": "code",
        "outputId": "5d06ef28-329d-4e67-f974-5015d0b7eed9",
        "colab": {
          "base_uri": "https://localhost:8080/",
          "height": 35
        }
      },
      "source": [
        "not_word = ['.', ',', '!', '?', ';', ':', '/', '\\\\', '(', ')', ' ', '\\n', '']\n",
        "word_id = []\n",
        "frequency = []\n",
        "count = 1\n",
        "for key, value in sorted(frequencies[1].items(), key = lambda kv: kv[1], reverse = True):\n",
        "    if key in not_word:\n",
        "        continue\n",
        "    word_id.append(count)\n",
        "    frequency.append(value)\n",
        "    count += 1\n",
        "print(\"Number of tokens in corpus:\", count)"
      ],
      "execution_count": 14,
      "outputs": [
        {
          "output_type": "stream",
          "text": [
            "Number of tokens in corpus: 7171\n"
          ],
          "name": "stdout"
        }
      ]
    },
    {
      "cell_type": "code",
      "metadata": {
        "id": "O1WTxeTBZXo2",
        "colab_type": "code",
        "outputId": "daf573f1-c13b-4c29-ca15-2d0952caaaa8",
        "colab": {
          "base_uri": "https://localhost:8080/",
          "height": 520
        }
      },
      "source": [
        "# Drawing a Frequency v/s Token Rank Graph\n",
        "num = 1000 # Number of values to consider for Frequency v/s Word Rank Plot\n",
        "x = word_id[:num]\n",
        "y = frequency[:num]\n",
        "\n",
        "plt.figure(figsize = (12, 8))\n",
        "plt.title(\"Zipf Law Illustration : Frequency v/s Token Rank - Top 1000\", fontsize = 16)\n",
        "plt.xlabel(\"Rank\", fontsize = 16)\n",
        "plt.ylabel('Frequency', fontsize = 16)\n",
        "plt.plot(x, y, color = 'darkblue')\n",
        "# plt.savefig('less_EN.png')\n",
        "plt.show()"
      ],
      "execution_count": 15,
      "outputs": [
        {
          "output_type": "display_data",
          "data": {
            "image/png": "[encoded data removed]",
            "text/plain": [
              "<Figure size 864x576 with 1 Axes>"
            ]
          },
          "metadata": {
            "tags": [],
            "needs_background": "light"
          }
        }
      ]
    },
    {
      "cell_type": "code",
      "metadata": {
        "id": "bp44DrodZXo8",
        "colab_type": "code",
        "outputId": "f5e9e2ba-aea4-4d4a-e2a2-ff129aefa01c",
        "colab": {
          "base_uri": "https://localhost:8080/",
          "height": 520
        }
      },
      "source": [
        "# Plot for 1000 to 2000 ranked Tokens\n",
        "x = word_id[1000: 2001]\n",
        "y = frequency[1000: 2001]\n",
        "\n",
        "plt.figure(figsize = (12, 8))\n",
        "plt.title(\"Frequency v/s Word Rank - 1000 to 2000 ranked Tokens\", fontsize = 16)\n",
        "plt.xlabel(\"Rank\", fontsize = 16)\n",
        "plt.ylabel('Frequency', fontsize = 16)\n",
        "plt.plot(x, y, 'blue')\n",
        "# plt.savefig('more_EN.png')\n",
        "plt.show()"
      ],
      "execution_count": 16,
      "outputs": [
        {
          "output_type": "display_data",
          "data": {
            "image/png": "[encoded data removed]",
            "text/plain": [
              "<Figure size 864x576 with 1 Axes>"
            ]
          },
          "metadata": {
            "tags": [],
            "needs_background": "light"
          }
        }
      ]
    },
    {
      "cell_type": "code",
      "metadata": {
        "id": "N-yMvaXLZXpC",
        "colab_type": "code",
        "outputId": "9f54c96c-c5aa-472e-dbbc-1a38eb9fb09a",
        "colab": {
          "base_uri": "https://localhost:8080/",
          "height": 35
        }
      },
      "source": [
        "def P_Kneser_Ney(word, previous_words, is_top):\n",
        "    # I want an ice-cream. word: \"ice-cream\", previous_words = [\"I\", \"want\", \"an\"]\n",
        "    # Base Case\n",
        "    if previous_words == []:\n",
        "        if is_top == 1:\n",
        "            count = 0\n",
        "            if word in frequencies[1]:\n",
        "                count = frequencies[1][word]\n",
        "            return (count / len(all_tokens))\n",
        "        else:\n",
        "            numerator_base = 0\n",
        "            for key in frequencies[2]:\n",
        "                if key[1] == word:\n",
        "                    numerator_base += 1\n",
        "            #print(\"Numerator_base :\", numerator_base)\n",
        "            return (numerator_base / len(frequencies[2]))\n",
        "            \n",
        "    \n",
        "    delta = 0.7\n",
        "    words = [token for token in previous_words]\n",
        "    words.append(word)\n",
        "    \n",
        "    # Computing the numerator\n",
        "    look_at_all = len(words)\n",
        "    look_at_prev = len(previous_words)\n",
        "    key = tuple(words)\n",
        "    \n",
        "    if is_top == 1:\n",
        "        numerator_A = 0\n",
        "        if key in frequencies[look_at_all]:\n",
        "            numerator_A = max(frequencies[look_at_all][key] - delta, 0)\n",
        "    else:\n",
        "        numerator_A = 0\n",
        "        checker = tuple(words[1:])\n",
        "        if(len(key) == 1):\n",
        "            key = key[0]\n",
        "        for key in frequencies[look_at_all]:\n",
        "            if (tuple(list(key)[1: len(list(key))]) == checker):\n",
        "                numerator_A += 1\n",
        "        #print(numerator_A)\n",
        "    \n",
        "    # Computing the Denominator\n",
        "    key = tuple(previous_words)\n",
        "    if(len(key) == 1):\n",
        "        key = key[0]\n",
        "    \n",
        "    if is_top == 1:\n",
        "        denominator = 0\n",
        "        if key in frequencies[look_at_prev]:\n",
        "            denominator = frequencies[look_at_prev][key]\n",
        "        else:\n",
        "            denominator = 1\n",
        "    else:\n",
        "        denominator = len(frequencies[look_at_all])\n",
        "    \n",
        "    numerator_B = 0\n",
        "    for key in frequencies[look_at_all]:\n",
        "        if (tuple(list(key)[0: len(list(key)) - 1]) == (tuple(previous_words))):\n",
        "            numerator_B += 1\n",
        "            \n",
        "    if denominator == 0:\n",
        "        denominator = 1\n",
        "    \n",
        "    if numerator_B == 0:\n",
        "        return (numerator_A / denominator)\n",
        "    \n",
        "    return (numerator_A / denominator) + delta * (numerator_B / denominator) * P_Kneser_Ney(word, previous_words[1:], 0)\n",
        "    \n",
        "    \n",
        "P_Kneser_Ney('not', ['This', 'must'], 1)"
      ],
      "execution_count": 17,
      "outputs": [
        {
          "output_type": "execute_result",
          "data": {
            "text/plain": [
              "0.3011867444638436"
            ]
          },
          "metadata": {
            "tags": []
          },
          "execution_count": 17
        }
      ]
    },
    {
      "cell_type": "code",
      "metadata": {
        "id": "TwDAzsqEZXpJ",
        "colab_type": "code",
        "colab": {}
      },
      "source": [
        "def prob_perplexity_sentence(sentence, gram_size):\n",
        "    if(gram_size > 6):\n",
        "        gram_size = 6\n",
        "    elif(gram_size < 1):\n",
        "        gram_size = 1\n",
        "        \n",
        "    tokens = tokenize_sentence(sentence)\n",
        "    n_grams_generated = find_ngrams(tokens, gram_size)\n",
        "\n",
        "    probability = 1\n",
        "    perplex_sum = 0\n",
        "    \n",
        "    for gram in n_grams_generated:\n",
        "        word = gram[len(gram) - 1]\n",
        "        previous_words = gram[0: len(gram) - 1]\n",
        "        probability *= P_Kneser_Ney(word, previous_words, 1)\n",
        "        if probability == 0:\n",
        "            continue\n",
        "        perplex_sum -= (probability * np.log(probability) / np.log(2))\n",
        "    \n",
        "    perplexity = np.power(2, perplex_sum)\n",
        "    \n",
        "    return({'sentence' : sentence, 'probability' : probability, 'perplexity' : perplexity})"
      ],
      "execution_count": 0,
      "outputs": []
    },
    {
      "cell_type": "code",
      "metadata": {
        "id": "_B7wBR5WZXpP",
        "colab_type": "code",
        "outputId": "20db96e1-c05b-446f-fa63-380ae6643efd",
        "colab": {
          "base_uri": "https://localhost:8080/",
          "height": 35
        }
      },
      "source": [
        "# Play around with various strings with a corresponding maximum N-gram length\n",
        "print(prob_perplexity_sentence(\"including India.\", 2))"
      ],
      "execution_count": 19,
      "outputs": [
        {
          "output_type": "stream",
          "text": [
            "{'sentence': 'including India.', 'probability': 0.09806155456408601, 'perplexity': 1.80212892123132}\n"
          ],
          "name": "stdout"
        }
      ]
    },
    {
      "cell_type": "code",
      "metadata": {
        "id": "4t-zEKECZXpU",
        "colab_type": "code",
        "colab": {}
      },
      "source": [
        "def generate(gram_size, rcvd_key):\n",
        "    key = rcvd_key\n",
        "    sentence = rcvd_key[gram_size - 1] + \" \"\n",
        "    length = 0\n",
        "    \n",
        "    while(key[gram_size - 1] != '</s>'):\n",
        "        new_key_init = []\n",
        "        for i in range(1, gram_size):\n",
        "            new_key_init.append(key[i])\n",
        "            \n",
        "        consider_keys = []\n",
        "        \n",
        "        for key_iter in frequencies[gram_size]:\n",
        "            if tuple(list(key_iter)[0: len(rcvd_key) - 1]) == tuple(new_key_init):\n",
        "                consider_keys.append(key_iter)\n",
        "                \n",
        "        build_dict = {}\n",
        "        for key in consider_keys:\n",
        "            build_dict[key] = frequencies[gram_size][key]\n",
        "        \n",
        "        key_next = 0\n",
        "        for key_take, value in sorted(build_dict.items(), key = lambda kv: kv[1], reverse = True):\n",
        "            key_next = key_take\n",
        "            if key_next[gram_size - 1] != \"</s>\":\n",
        "                sentence = sentence + \" \" + key_next[gram_size - 1]\n",
        "            break\n",
        "        key = key_next\n",
        "        length += 1\n",
        "        if length == 20:\n",
        "            break\n",
        "    sentence = re.sub(r\"  \", r\" \", sentence)\n",
        "    print(sentence)\n",
        "\n",
        "def generate_init(gram_size, create):\n",
        "    # generates a set of 'create' sentences considering the language model of the given gram_size\n",
        "    if(gram_size > 6):\n",
        "        gram_size = 6\n",
        "    elif(gram_size < 1):\n",
        "        gram_size = 1\n",
        "    if gram_size == 1:\n",
        "        count = 10\n",
        "        for key, value in sorted(frequencies[1].items(), key = lambda kv: kv[1], reverse = True):\n",
        "            print(key)\n",
        "            count -= 1\n",
        "            if(count <= 0):\n",
        "                return\n",
        "    init = []\n",
        "    for i in range(gram_size - 1):\n",
        "        init.append('<s>')\n",
        "    consider_keys = []\n",
        "    for key in frequencies[gram_size]:\n",
        "        if tuple(list(key)[0: len(key) - 1]) == tuple(init):\n",
        "            consider_keys.append(key)\n",
        "            #print(key)\n",
        "            \n",
        "    build_dict = {}\n",
        "    for key in consider_keys:\n",
        "        build_dict[key] = frequencies[gram_size][key]\n",
        "        \n",
        "    count = min(create, 25)\n",
        "    for key, value in sorted(build_dict.items(), key = lambda kv: kv[1], reverse = True):\n",
        "        generate(gram_size, key)\n",
        "\n",
        "        count -= 1\n",
        "        if(count <= 0):\n",
        "            break"
      ],
      "execution_count": 0,
      "outputs": []
    },
    {
      "cell_type": "code",
      "metadata": {
        "id": "ICWQCVGGZXpa",
        "colab_type": "code",
        "outputId": "798b2a0d-c2b7-4685-ff7a-5cce31fc931d",
        "colab": {
          "base_uri": "https://localhost:8080/",
          "height": 373
        }
      },
      "source": [
        "# Generate Sentences using a maximum N-gram size as argument\n",
        "generate_init(5, 20)"
      ],
      "execution_count": 21,
      "outputs": [
        {
          "output_type": "stream",
          "text": [
            "He is a well off person .\n",
            "I am not going to answer the question .\n",
            "The boy is being brave .\n",
            "How many people are about to come in this party ?\n",
            "What is the name of this thing ?\n",
            "You are not the first man that has been deceived by appearances .\n",
            "We are not working .\n",
            "She is not going to work out .\n",
            "They are not going to walk in the mountains .\n",
            "Will you be able to spare time for me ?\n",
            "It is a very good example of social service .\n",
            "This is the boy whose pencil I have .\n",
            "There is a cow in the field .\n",
            "A girl eats an apple .\n",
            "John is giving bananas , Saidi oranges .\n",
            "My sister , who works in IT , is coming to visit me tomorrow .\n",
            "If you had left that wasp alone it might not have stung you .\n",
            "Does he know that you love him ?\n",
            "Which is the best book ?\n",
            "Who did you give the book to ?\n"
          ],
          "name": "stdout"
        }
      ]
    },
    {
      "cell_type": "code",
      "metadata": {
        "id": "9vlr1G3QZXph",
        "colab_type": "code",
        "colab": {}
      },
      "source": [
        "# Accepts a corpus as input and calculate perplexities of all its sentences\n",
        "test_corpus = 'corpus3.txt'\n",
        "f_test = open(test_corpus)\n",
        "test_file_string = f_test.read()\n",
        "\n",
        "test_sentence_list = test_file_string.split('\\n')"
      ],
      "execution_count": 0,
      "outputs": []
    },
    {
      "cell_type": "code",
      "metadata": {
        "id": "l6RjhEtOZXpn",
        "colab_type": "code",
        "outputId": "a3c771d3-5146-405f-cbae-0162c99baf3d",
        "colab": {
          "base_uri": "https://localhost:8080/",
          "height": 55
        }
      },
      "source": [
        "count = 0\n",
        "f_perplex = open(\"perplexity_scores\", \"w+\")\n",
        "avg_perplexities = [0, 0, 0, 0, 0, 0]\n",
        "for N_gram_used in range(1, 7):\n",
        "    sum = 0\n",
        "    count = 0\n",
        "    f_perplex.write(\"Perplexity Scores using N-gram Size = \"+ str(N_gram_used) + \"\\n\")\n",
        "    for test_sentence in test_sentence_list:\n",
        "        unit = prob_perplexity_sentence(test_sentence, N_gram_used)\n",
        "        string_to_write = test_sentence + \"\\t\" + str(unit['perplexity']) + \"\\n\"\n",
        "        f_perplex.write(string_to_write)\n",
        "        sum += unit['perplexity']\n",
        "        count += 1\n",
        "        if(count > 10):\n",
        "            break\n",
        "    avg_perplexities[N_gram_used - 1] = sum / count\n",
        "    f_perplex.write(\"Average Perplexity : \" + str(sum / count) + \"\\n\")\n",
        "print(\"Average Perplexities using various sized N-grams:\", avg_perplexities)\n",
        "f_perplex.close()"
      ],
      "execution_count": 23,
      "outputs": [
        {
          "output_type": "stream",
          "text": [
            "Average Perplexities using various sized N-grams: [1.0381730218581977, 1.1825251861497608, 1.5340727778755736, 1.694116831502953, 1.681301153192944, 1.5338029311263925]\n"
          ],
          "name": "stdout"
        }
      ]
    },
    {
      "cell_type": "code",
      "metadata": {
        "id": "mADqff_IZXpr",
        "colab_type": "code",
        "outputId": "33d2bc76-1cd0-4101-909f-aaa5611fd4ac",
        "colab": {
          "base_uri": "https://localhost:8080/",
          "height": 520
        }
      },
      "source": [
        "# Plot for the generated language models\n",
        "# Unigram, Bigram, Trigram, ... , 6-gram\n",
        "x = [i for i in range(1, 7)]\n",
        "y = avg_perplexities[0:]\n",
        "\n",
        "plt.figure(figsize = (12, 8))\n",
        "plt.title(\"Plot of LMs - Average Perplexity v/s N-gram size used\", fontsize = 16)\n",
        "plt.xlabel(\"N\", fontsize = 16)\n",
        "plt.ylabel('Average Perplexity', fontsize = 16)\n",
        "plt.bar(x, y, color = 'darkgreen')\n",
        "# plt.savefig('perplexity_en.png')\n",
        "plt.show()"
      ],
      "execution_count": 24,
      "outputs": [
        {
          "output_type": "display_data",
          "data": {
            "image/png": "[encoded data removed]",
            "text/plain": [
              "<Figure size 864x576 with 1 Axes>"
            ]
          },
          "metadata": {
            "tags": [],
            "needs_background": "light"
          }
        }
      ]
    },
    {
      "cell_type": "code",
      "metadata": {
        "id": "TXSsGp0UZXpx",
        "colab_type": "code",
        "colab": {}
      },
      "source": [
        "#  ^_^ Thank You\n",
        "# Author: Sayar Ghosh Roy"
      ],
      "execution_count": 0,
      "outputs": []
    }
  ]
}